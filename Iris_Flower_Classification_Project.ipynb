{
  "nbformat": 4,
  "nbformat_minor": 0,
  "metadata": {
    "colab": {
      "private_outputs": true,
      "provenance": [],
      "authorship_tag": "ABX9TyP+WLMTOmJDxEprOY8WjvnN",
      "include_colab_link": true
    },
    "kernelspec": {
      "name": "python3",
      "display_name": "Python 3"
    },
    "language_info": {
      "name": "python"
    },
    "accelerator": "GPU",
    "gpuClass": "standard"
  },
  "cells": [
    {
      "cell_type": "markdown",
      "metadata": {
        "id": "view-in-github",
        "colab_type": "text"
      },
      "source": [
        "<a href=\"https://colab.research.google.com/github/yogesh2142/Iris-flower-Classification-/blob/main/Iris_Flower_Classification_Project.ipynb\" target=\"_parent\"><img src=\"https://colab.research.google.com/assets/colab-badge.svg\" alt=\"Open In Colab\"/></a>"
      ]
    },
    {
      "cell_type": "markdown",
      "source": [
        "# Import Necessary Libraries"
      ],
      "metadata": {
        "id": "6apy5-xuq1mH"
      }
    },
    {
      "cell_type": "code",
      "execution_count": null,
      "metadata": {
        "id": "VZqYZLsBsbO6"
      },
      "outputs": [],
      "source": [
        "import numpy as np\n",
        "import pandas as pd\n",
        "import matplotlib.pyplot as plt\n",
        "import seaborn as sns"
      ]
    },
    {
      "cell_type": "code",
      "source": [
        "import warnings\n",
        "warnings.filterwarnings('ignore')"
      ],
      "metadata": {
        "id": "VSQFBKnluB8X"
      },
      "execution_count": null,
      "outputs": []
    },
    {
      "cell_type": "code",
      "source": [
        "plt.style.use(\"fivethirtyeight\")\n",
        "%matplotlib inline"
      ],
      "metadata": {
        "id": "bHYX8rSKuPlZ"
      },
      "execution_count": null,
      "outputs": []
    },
    {
      "cell_type": "code",
      "source": [
        "from google.colab import files\n",
        "uploaded = files.upload()"
      ],
      "metadata": {
        "id": "YhtxS1LWw4_d"
      },
      "execution_count": null,
      "outputs": []
    },
    {
      "cell_type": "code",
      "source": [
        "df = pd.read_csv('Iris.csv')\n",
        "df.head()"
      ],
      "metadata": {
        "id": "MLXUvwGYuxH8"
      },
      "execution_count": null,
      "outputs": []
    },
    {
      "cell_type": "code",
      "source": [
        "df.info()"
      ],
      "metadata": {
        "id": "odv-Ssz3ucSP"
      },
      "execution_count": null,
      "outputs": []
    },
    {
      "cell_type": "code",
      "source": [
        "df.describe()"
      ],
      "metadata": {
        "id": "WZmUYVowugJc"
      },
      "execution_count": null,
      "outputs": []
    },
    {
      "cell_type": "code",
      "source": [
        "df.shape"
      ],
      "metadata": {
        "id": "a-ZHzhDUxlEu"
      },
      "execution_count": null,
      "outputs": []
    },
    {
      "cell_type": "markdown",
      "source": [
        "# Droping the Column"
      ],
      "metadata": {
        "id": "WesR59A2rC_n"
      }
    },
    {
      "cell_type": "code",
      "source": [
        "df.drop('Id',axis=1,inplace=True)"
      ],
      "metadata": {
        "id": "uw_Qxm-7xqpp"
      },
      "execution_count": null,
      "outputs": []
    },
    {
      "cell_type": "code",
      "source": [
        "df.head()"
      ],
      "metadata": {
        "id": "wzZeDyTfr-DY"
      },
      "execution_count": null,
      "outputs": []
    },
    {
      "cell_type": "markdown",
      "source": [
        "# Transforming Categorical Data into Numeric Data"
      ],
      "metadata": {
        "id": "Am2s82-tsE5q"
      }
    },
    {
      "cell_type": "code",
      "source": [
        "# count the value\n",
        "df['Species'].value_counts()"
      ],
      "metadata": {
        "id": "XHlPWsSFs2U5"
      },
      "execution_count": null,
      "outputs": []
    },
    {
      "cell_type": "code",
      "source": [
        "#finding the null value\n",
        "df.isnull().sum()"
      ],
      "metadata": {
        "id": "AH-5jE2Ou0uR"
      },
      "execution_count": null,
      "outputs": []
    },
    {
      "cell_type": "code",
      "source": [
        "import missingno as msno\n",
        "msno.bar(df)"
      ],
      "metadata": {
        "id": "4Sk2tUVEu4d2"
      },
      "execution_count": null,
      "outputs": []
    },
    {
      "cell_type": "code",
      "source": [
        "df.drop_duplicates(inplace=True)"
      ],
      "metadata": {
        "id": "NuwCCbJMu8Ph"
      },
      "execution_count": null,
      "outputs": []
    },
    {
      "cell_type": "markdown",
      "source": [
        "EDA \n",
        "1. Relationship between species and sepal length"
      ],
      "metadata": {
        "id": "lbCz3MSDkw5m"
      }
    },
    {
      "cell_type": "code",
      "source": [
        "plt.figure(figsize=(15,8))\n",
        "sns.boxplot(x='Species',y='SepalLengthCm',data=df.sort_values('SepalLengthCm',ascending=False))"
      ],
      "metadata": {
        "id": "XMM_6JSRu85I"
      },
      "execution_count": null,
      "outputs": []
    },
    {
      "cell_type": "markdown",
      "source": [
        "2. Relationship between species and sepal width"
      ],
      "metadata": {
        "id": "g2n5JV-qlE-D"
      }
    },
    {
      "cell_type": "code",
      "source": [
        "df.plot(kind='scatter',x='SepalWidthCm',y='SepalLengthCm')"
      ],
      "metadata": {
        "id": "-BCNIkpGk-ym"
      },
      "execution_count": null,
      "outputs": []
    },
    {
      "cell_type": "markdown",
      "source": [
        "3. Relationship between sepal width and sepal length"
      ],
      "metadata": {
        "id": "g-MK3McUlRgD"
      }
    },
    {
      "cell_type": "code",
      "source": [
        "sns.jointplot(x=\"SepalLengthCm\", y=\"SepalWidthCm\", data=df, size=5)"
      ],
      "metadata": {
        "id": "1yEKyDaHlSBS"
      },
      "execution_count": null,
      "outputs": []
    },
    {
      "cell_type": "markdown",
      "source": [
        "4.Pairplot"
      ],
      "metadata": {
        "id": "48cdmSKcleAs"
      }
    },
    {
      "cell_type": "code",
      "source": [
        "sns.pairplot(df, hue=\"Species\", size=3)"
      ],
      "metadata": {
        "id": "Sa0IYKrRlN39"
      },
      "execution_count": null,
      "outputs": []
    },
    {
      "cell_type": "markdown",
      "source": [
        "5. Boxplot"
      ],
      "metadata": {
        "id": "Zg9nzzwElh6M"
      }
    },
    {
      "cell_type": "code",
      "source": [
        "df.boxplot(by=\"Species\", figsize=(12, 6))"
      ],
      "metadata": {
        "id": "zarJ_2IvlmYP"
      },
      "execution_count": null,
      "outputs": []
    },
    {
      "cell_type": "markdown",
      "source": [
        "5. Andrews_curves"
      ],
      "metadata": {
        "id": "XjfobszWlxPG"
      }
    },
    {
      "cell_type": "code",
      "source": [
        "import pandas.plotting\n",
        "from pandas.plotting import andrews_curves\n",
        "andrews_curves(df, \"Species\")"
      ],
      "metadata": {
        "id": "eu6hiOeFlyMD"
      },
      "execution_count": null,
      "outputs": []
    },
    {
      "cell_type": "markdown",
      "source": [
        "6.CategoricalPlot"
      ],
      "metadata": {
        "id": "4bpO_mvFl1n5"
      }
    },
    {
      "cell_type": "code",
      "source": [
        "plt.figure(figsize=(15,15))\n",
        "sns.catplot(x='Species',y='SepalWidthCm',data=df.sort_values('SepalWidthCm',ascending=False),kind='boxen')"
      ],
      "metadata": {
        "id": "qiDryZ4Vl5SC"
      },
      "execution_count": null,
      "outputs": []
    },
    {
      "cell_type": "markdown",
      "source": [
        "7.Violinplot"
      ],
      "metadata": {
        "id": "Jy3dNAk5mC1f"
      }
    },
    {
      "cell_type": "code",
      "source": [
        "plt.figure(figsize=(15,10))\n",
        "plt.subplot(2,2,1)\n",
        "sns.violinplot(x='Species',y='PetalLengthCm',data=df)\n",
        "plt.subplot(2,2,2)\n",
        "sns.violinplot(x='Species',y='PetalWidthCm',data=df)\n",
        "plt.subplot(2,2,3)\n",
        "sns.violinplot(x='Species',y='SepalLengthCm',data=df)\n",
        "plt.subplot(2,2,4)\n",
        "sns.violinplot(x='Species',y='SepalWidthCm',data=df)"
      ],
      "metadata": {
        "id": "z4526n1-mJbP"
      },
      "execution_count": null,
      "outputs": []
    },
    {
      "cell_type": "markdown",
      "source": [
        "# Thank You"
      ],
      "metadata": {
        "id": "J5yDdSp7hqFx"
      }
    }
  ]
}